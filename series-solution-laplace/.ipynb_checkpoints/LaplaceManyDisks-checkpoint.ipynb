{
 "cells": [
  {
   "cell_type": "code",
   "execution_count": 14,
   "metadata": {},
   "outputs": [],
   "source": [
    "import numpy as np\n",
    "import seaborn as sns\n",
    "import matplotlib.pyplot as plt"
   ]
  },
  {
   "cell_type": "code",
   "execution_count": 29,
   "metadata": {},
   "outputs": [],
   "source": [
    "c = np.array([-2,3j,3,2-3j,4+1j,3+2j],dtype=complex)\n",
    "r = np.array([.7,.7,.2,.2, .4, .5],dtype=complex)\n",
    "z0 = np.array([0,2,1+1j],dtype=complex)\n",
    "J = 6\n",
    "N = 20\n",
    "npts = 3*N\n",
    "circ = np.exp(2j*np.pi*np.linspace(0,1,npts))"
   ]
  },
  {
   "cell_type": "code",
   "execution_count": 30,
   "metadata": {},
   "outputs": [
    {
     "name": "stdout",
     "output_type": "stream",
     "text": [
      "361\n",
      "247\n"
     ]
    }
   ],
   "source": [
    "# A = np.ones((J*npts+1,1+J*(2*N+1)),dtype=complex)\n",
    "z = np.zeros((J*npts,1),dtype=complex)\n",
    "A = np.ones((z.size,1),dtype=complex)\n",
    "print(1+J*npts)\n",
    "print(1+J*(2*N+1))"
   ]
  },
  {
   "cell_type": "code",
   "execution_count": 31,
   "metadata": {},
   "outputs": [],
   "source": [
    "for j in range(J):\n",
    "    for k in range(npts):\n",
    "        z[k+npts*j] = c[j]+r[j]*circ[k]\n",
    "        \n"
   ]
  },
  {
   "cell_type": "code",
   "execution_count": 32,
   "metadata": {},
   "outputs": [],
   "source": [
    "for j in range(J): \n",
    "    A = np.concatenate((A,np.log(np.abs(z-c[j]))),1)\n",
    "    for k in range(0,N):\n",
    "        zck = (z-c[j])**(-k)\n",
    "        A=np.hstack((np.hstack((A,np.real(zck))),np.imag(zck)))\n",
    "        \n",
    "    \n",
    "A = np.vstack((A,np.zeros((1,1+J*(2*N+1)))))\n"
   ]
  },
  {
   "cell_type": "code",
   "execution_count": 33,
   "metadata": {},
   "outputs": [],
   "source": [
    "A[-1,1:-1:(2*N+1)]=1"
   ]
  },
  {
   "cell_type": "code",
   "execution_count": 34,
   "metadata": {},
   "outputs": [],
   "source": [
    "rhs=np.vstack((-np.log(np.abs(z)),-1))"
   ]
  },
  {
   "cell_type": "code",
   "execution_count": 35,
   "metadata": {},
   "outputs": [
    {
     "name": "stderr",
     "output_type": "stream",
     "text": [
      "/usr/local/Cellar/ipython/7.8.0/libexec/vendor/lib/python3.7/site-packages/ipykernel_launcher.py:1: FutureWarning: `rcond` parameter will change to the default of machine precision times ``max(M, N)`` where M and N are the input matrix dimensions.\n",
      "To use the future default and silence this warning we advise to pass `rcond=None`, to keep using the old, explicitly pass `rcond=-1`.\n",
      "  \"\"\"Entry point for launching an IPython kernel.\n"
     ]
    }
   ],
   "source": [
    "X = np.linalg.lstsq(A,rhs)[0]"
   ]
  },
  {
   "cell_type": "code",
   "execution_count": 36,
   "metadata": {},
   "outputs": [],
   "source": [
    "C = X[0]\n",
    "X=np.delete(X,0,0)\n",
    "d = X[0:-1:2*N+1]\n",
    "# X=np.delete(X,d,0)\n",
    "X=np.delete(X,np.s_[::(2*N+1)],0)\n",
    "a = X[0::2]\n",
    "b = X[1::2]"
   ]
  },
  {
   "cell_type": "code",
   "execution_count": 37,
   "metadata": {},
   "outputs": [
    {
     "data": {
      "text/plain": [
       "(120, 1)"
      ]
     },
     "execution_count": 37,
     "metadata": {},
     "output_type": "execute_result"
    }
   ],
   "source": [
    "b.shape"
   ]
  },
  {
   "cell_type": "code",
   "execution_count": 38,
   "metadata": {},
   "outputs": [],
   "source": [
    "def disksfun(z):\n",
    "    u = np.log(np.abs(z)) + C\n",
    "    for j in np.arange(0,J):\n",
    "        cj = c[j]\n",
    "        u += d[j,0]*np.log(np.abs(z-c[j]))\n",
    "        for k in np.arange(0,N):\n",
    "            zck = (z-c[j])**(-k)\n",
    "            kk = k + j*N\n",
    "            u+=a[kk,0]*np.real(zck)+b[kk,0]*np.imag(zck)\n",
    "        u[abs(z-cj)<=r[j]]=np.NaN\n",
    "        u[abs(z-cj)<=r[j]]=0\n",
    "    \n",
    "    return u"
   ]
  },
  {
   "cell_type": "code",
   "execution_count": 44,
   "metadata": {},
   "outputs": [
    {
     "name": "stderr",
     "output_type": "stream",
     "text": [
      "/usr/local/Cellar/ipython/7.8.0/libexec/vendor/lib/python3.7/site-packages/ipykernel_launcher.py:2: RuntimeWarning: divide by zero encountered in log\n",
      "  \n"
     ]
    },
    {
     "data": {
      "text/plain": [
       "<matplotlib.contour.QuadContourSet at 0x1204b2d50>"
      ]
     },
     "execution_count": 44,
     "metadata": {},
     "output_type": "execute_result"
    },
    {
     "data": {
      "image/png": "[encoded data removed]",
      "text/plain": [
       "<Figure size 432x288 with 1 Axes>"
      ]
     },
     "metadata": {
      "needs_background": "light"
     },
     "output_type": "display_data"
    }
   ],
   "source": [
    "xx,yy = np.linspace(-5,5,145),np.linspace(-4,4,115)\n",
    "[xx,yy] = np.meshgrid(xx,yy)\n",
    "zz = xx + 1j*yy\n",
    "uu = disksfun(zz)\n",
    "z = np.exp(2j*np.pi*np.linspace(0,1,50))\n",
    "for j in range(J):\n",
    "    disk = c[j]+r[j]*z\n",
    "    plt.plot(np.real(disk),np.imag(disk))\n",
    "    \n",
    "levels = np.linspace(-1,1,10)\n",
    "plt.contourf(xx,yy,uu,levels=levels)\n",
    "# plt.contourf(xx,yy,uu)"
   ]
  },
  {
   "cell_type": "code",
   "execution_count": null,
   "metadata": {},
   "outputs": [],
   "source": []
  }
 ],
 "metadata": {
  "kernelspec": {
   "display_name": "Python 3",
   "language": "python",
   "name": "python3"
  },
  "language_info": {
   "codemirror_mode": {
    "name": "ipython",
    "version": 3
   },
   "file_extension": ".py",
   "mimetype": "text/x-python",
   "name": "python",
   "nbconvert_exporter": "python",
   "pygments_lexer": "ipython3",
   "version": "3.7.4"
  }
 },
 "nbformat": 4,
 "nbformat_minor": 2
}
