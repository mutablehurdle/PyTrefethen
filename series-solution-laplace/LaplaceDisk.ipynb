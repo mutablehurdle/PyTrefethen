{
 "cells": [
  {
   "cell_type": "code",
   "execution_count": 1,
   "metadata": {},
   "outputs": [],
   "source": [
    "import numpy as np\n",
    "import seaborn as sns\n",
    "import matplotlib.pyplot as plt"
   ]
  },
  {
   "cell_type": "code",
   "execution_count": 2,
   "metadata": {},
   "outputs": [],
   "source": [
    "c = 3 +1j #center of disk\n",
    "r = 1    #radius of disk"
   ]
  },
  {
   "cell_type": "code",
   "execution_count": 3,
   "metadata": {},
   "outputs": [],
   "source": [
    "N =10      #number of expansion terms\n",
    "npts = 3*N #number of sample points"
   ]
  },
  {
   "cell_type": "code",
   "execution_count": 4,
   "metadata": {},
   "outputs": [],
   "source": [
    "npts_range=np.linspace(0,npts,npts)"
   ]
  },
  {
   "cell_type": "code",
   "execution_count": 5,
   "metadata": {},
   "outputs": [],
   "source": [
    "z = c + r*np.exp(2j*np.pi*npts_range/npts) #sample points"
   ]
  },
  {
   "cell_type": "code",
   "execution_count": 6,
   "metadata": {},
   "outputs": [],
   "source": [
    "rhs = -np.log(np.abs(z))+np.log(np.abs(z-c)) #right-hand side\n",
    "A = np.ones((npts,2*N+1))"
   ]
  },
  {
   "cell_type": "code",
   "execution_count": 7,
   "metadata": {},
   "outputs": [
    {
     "name": "stderr",
     "output_type": "stream",
     "text": [
      "/usr/local/lib/python3.7/site-packages/ipykernel_launcher.py:5: FutureWarning: `rcond` parameter will change to the default of machine precision times ``max(M, N)`` where M and N are the input matrix dimensions.\n",
      "To use the future default and silence this warning we advise to pass `rcond=None`, to keep using the old, explicitly pass `rcond=-1`.\n",
      "  \"\"\"\n"
     ]
    }
   ],
   "source": [
    "for k in np.arange(1,N+1):\n",
    "    A[:,2*k-1] = np.real((z-c)**(-k))\n",
    "    A[:,2*k] = np.imag((z-c)**(-k))\n",
    "    \n",
    "a = np.linalg.lstsq(A,rhs)[0]"
   ]
  },
  {
   "cell_type": "code",
   "execution_count": 8,
   "metadata": {},
   "outputs": [
    {
     "data": {
      "text/plain": [
       "array([ 1,  2,  3,  4,  5,  6,  7,  8,  9, 10])"
      ]
     },
     "execution_count": 8,
     "metadata": {},
     "output_type": "execute_result"
    }
   ],
   "source": [
    "np.arange(1,N+1)"
   ]
  },
  {
   "cell_type": "code",
   "execution_count": 9,
   "metadata": {},
   "outputs": [
    {
     "data": {
      "text/plain": [
       "[<matplotlib.lines.Line2D at 0x126e65250>]"
      ]
     },
     "execution_count": 9,
     "metadata": {},
     "output_type": "execute_result"
    },
    {
     "data": {
      "image/png": "[encoded data removed]",
      "text/plain": [
       "<Figure size 432x288 with 1 Axes>"
      ]
     },
     "metadata": {
      "needs_background": "light"
     },
     "output_type": "display_data"
    }
   ],
   "source": [
    "plt.plot(np.real(z),np.imag(z),'.')\n",
    "plt.plot(np.real(z-c),np.imag(z-c),'.')"
   ]
  },
  {
   "cell_type": "code",
   "execution_count": 10,
   "metadata": {},
   "outputs": [],
   "source": [
    "def disk1fun(z):\n",
    "    u = np.log(np.abs(z)) - np.log(np.abs(z-c)) + a[0]\n",
    "    \n",
    "    for k in np.arange(1,N+1):\n",
    "        u+=a[2*k-1]*np.real((z-c)**(-k))+a[2*k]*np.imag((z-c)**(-k))\n",
    "    u[abs(z-c)<=r]=np.NaN\n",
    "    \n",
    "    return u"
   ]
  },
  {
   "cell_type": "code",
   "execution_count": 11,
   "metadata": {},
   "outputs": [
    {
     "name": "stderr",
     "output_type": "stream",
     "text": [
      "/usr/local/lib/python3.7/site-packages/ipykernel_launcher.py:2: RuntimeWarning: divide by zero encountered in log\n",
      "  \n"
     ]
    }
   ],
   "source": [
    "xx,yy = np.linspace(-5,5,145),np.linspace(-4,4,115)\n",
    "[xx,yy] = np.meshgrid(xx,yy)\n",
    "zz = xx + 1j*yy\n",
    "uu = disk1fun(zz)"
   ]
  },
  {
   "cell_type": "code",
   "execution_count": 12,
   "metadata": {},
   "outputs": [
    {
     "data": {
      "text/plain": [
       "<matplotlib.contour.QuadContourSet at 0x1291a2cd0>"
      ]
     },
     "execution_count": 12,
     "metadata": {},
     "output_type": "execute_result"
    },
    {
     "data": {
      "image/png": "[encoded data removed]",
      "text/plain": [
       "<Figure size 432x288 with 1 Axes>"
      ]
     },
     "metadata": {
      "needs_background": "light"
     },
     "output_type": "display_data"
    }
   ],
   "source": [
    "levels = np.linspace(-3,-.25,10)\n",
    "plt.contourf(xx,yy,uu)"
   ]
  },
  {
   "cell_type": "code",
   "execution_count": 63,
   "metadata": {},
   "outputs": [
    {
     "data": {
      "text/plain": [
       "(115, 145)"
      ]
     },
     "execution_count": 63,
     "metadata": {},
     "output_type": "execute_result"
    }
   ],
   "source": [
    "zz.shape"
   ]
  },
  {
   "cell_type": "code",
   "execution_count": 64,
   "metadata": {},
   "outputs": [
    {
     "data": {
      "text/plain": [
       "array([[-5.        -4.j        , -4.93055556-4.j        ,\n",
       "        -4.86111111-4.j        , ...,  4.86111111-4.j        ,\n",
       "         4.93055556-4.j        ,  5.        -4.j        ],\n",
       "       [-5.        -3.92982456j, -4.93055556-3.92982456j,\n",
       "        -4.86111111-3.92982456j, ...,  4.86111111-3.92982456j,\n",
       "         4.93055556-3.92982456j,  5.        -3.92982456j],\n",
       "       [-5.        -3.85964912j, -4.93055556-3.85964912j,\n",
       "        -4.86111111-3.85964912j, ...,  4.86111111-3.85964912j,\n",
       "         4.93055556-3.85964912j,  5.        -3.85964912j],\n",
       "       ...,\n",
       "       [-5.        +3.85964912j, -4.93055556+3.85964912j,\n",
       "        -4.86111111+3.85964912j, ...,  4.86111111+3.85964912j,\n",
       "         4.93055556+3.85964912j,  5.        +3.85964912j],\n",
       "       [-5.        +3.92982456j, -4.93055556+3.92982456j,\n",
       "        -4.86111111+3.92982456j, ...,  4.86111111+3.92982456j,\n",
       "         4.93055556+3.92982456j,  5.        +3.92982456j],\n",
       "       [-5.        +4.j        , -4.93055556+4.j        ,\n",
       "        -4.86111111+4.j        , ...,  4.86111111+4.j        ,\n",
       "         4.93055556+4.j        ,  5.        +4.j        ]])"
      ]
     },
     "execution_count": 64,
     "metadata": {},
     "output_type": "execute_result"
    }
   ],
   "source": [
    "zz"
   ]
  },
  {
   "cell_type": "code",
   "execution_count": null,
   "metadata": {},
   "outputs": [],
   "source": []
  }
 ],
 "metadata": {
  "kernelspec": {
   "display_name": "Python 3",
   "language": "python",
   "name": "python3"
  },
  "language_info": {
   "codemirror_mode": {
    "name": "ipython",
    "version": 3
   },
   "file_extension": ".py",
   "mimetype": "text/x-python",
   "name": "python",
   "nbconvert_exporter": "python",
   "pygments_lexer": "ipython3",
   "version": "3.7.4"
  }
 },
 "nbformat": 4,
 "nbformat_minor": 2
}
