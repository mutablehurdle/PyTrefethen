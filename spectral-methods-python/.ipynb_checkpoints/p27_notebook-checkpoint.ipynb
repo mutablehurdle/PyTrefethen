{
 "cells": [
  {
   "cell_type": "code",
   "execution_count": 1,
   "metadata": {},
   "outputs": [],
   "source": [
    "'''\n",
    "Spectral methods in MATLAB.\n",
    "compare to Trefethen p27.m\n",
    "'''\n",
    "\n",
    "# Solve KdV eq.: u_t + uu_x + u_xxx = 0 on [-pi,pi] by\n",
    "# FFT with integrating factor v = exp(-ik**3t)*u-hat\n",
    "\n",
    "from numpy import *\n",
    "from matplotlib import pyplot as plt\n",
    "# from mpl_toolkits.mplot3d import axes3d\n",
    "from mayavi import mlab\n",
    "\n",
    "# Set up grid and two-solution initial data:\n",
    "N = 256\n",
    "dt = 0.4/N**2\n",
    "x = (2*pi/N)*arange(-N/2.0,N/2.0)\n",
    "A = 25\n",
    "B = 16\n",
    "u = 3*A**2*(1.0/cosh(0.5*(A*(x+2))))**2 + 3*B**2*(1.0/cosh(0.5*(B*(x+1))))**2\n",
    "v = fft.fft(u)\n",
    "k = hstack([arange(0,N/2.0),0,arange(-N/2.0+1,0)])\n",
    "ik3 = 1j*k**3\n",
    "\n",
    "\n",
    "# Solve PDE and plot results:\n",
    "tmax = 0.006\n",
    "nplt = floor((tmax/25)/dt)\n",
    "nmax = int(round(tmax/dt))\n",
    "udata = [u]\n",
    "tdata = [0]\n",
    "for n in range(1,nmax+1):\n",
    "    t = n*dt\n",
    "    g = -0.5j*dt*k\n",
    "    E = exp(dt*ik3/2)\n",
    "    E2 = E**2\n",
    "    a = g*fft.fft(real(fft.ifft(v))**2)\n",
    "    b = g*fft.fft(real(fft.ifft(E*(v + a/2.0)))**2)          # 4th-order\n",
    "    c = g*fft.fft(real(fft.ifft(E*v + b/2.0))**2)            # Runge-Kutta\n",
    "    d = g*fft.fft(real(fft.ifft(E2*v + E*c))**2)\n",
    "    v = E2*v + (E2*a + 2*E*(b+c) +d)/6.0\n",
    "    if ((n%int(nplt))==0):\n",
    "        u = real(fft.ifft(v))\n",
    "        udata.append(u)\n",
    "        tdata.append(t)\n",
    "#\n",
    "# fig = plt.figure()\n",
    "# ax = axes3d.Axes3D(fig)\n",
    "X, Y = meshgrid(x, tdata)\n",
    "# ax.plot_wireframe(X,Y,udata)\n",
    "# ax.set_xlim(-pi, pi)\n",
    "# ax.set_ylim(0, tmax)\n",
    "# ax.set_zlim(0, 2000)\n",
    "# ax.set_xlabel('x')\n",
    "# ax.set_ylabel('t')\n",
    "# plt.show()\n",
    "\n",
    "# mlab.mesh(X,Y,udata)\n",
    "# # mlab.axes(f,extent=[-pi, pi, 0, tmax, 0, 2000])\n",
    "# mlab.show()\n"
   ]
  },
  {
   "cell_type": "code",
   "execution_count": 2,
   "metadata": {},
   "outputs": [],
   "source": [
    "surf = mlab.surf(udata)"
   ]
  },
  {
   "cell_type": "code",
   "execution_count": 4,
   "metadata": {},
   "outputs": [
    {
     "data": {
      "text/plain": [
       "<mayavi.modules.surface.Surface at 0x122fd1d10>"
      ]
     },
     "execution_count": 4,
     "metadata": {},
     "output_type": "execute_result"
    }
   ],
   "source": [
    "surf"
   ]
  },
  {
   "cell_type": "code",
   "execution_count": null,
   "metadata": {},
   "outputs": [],
   "source": []
  }
 ],
 "metadata": {
  "kernelspec": {
   "display_name": "Python 3",
   "language": "python",
   "name": "python3"
  },
  "language_info": {
   "codemirror_mode": {
    "name": "ipython",
    "version": 3
   },
   "file_extension": ".py",
   "mimetype": "text/x-python",
   "name": "python",
   "nbconvert_exporter": "python",
   "pygments_lexer": "ipython3",
   "version": "3.7.4"
  }
 },
 "nbformat": 4,
 "nbformat_minor": 2
}
