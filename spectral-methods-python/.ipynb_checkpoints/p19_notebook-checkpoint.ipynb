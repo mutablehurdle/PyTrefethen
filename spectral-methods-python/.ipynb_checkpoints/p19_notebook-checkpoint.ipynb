{
 "cells": [
  {
   "cell_type": "code",
   "execution_count": 15,
   "metadata": {},
   "outputs": [
    {
     "data": {
      "text/plain": [
       "<mayavi.modules.surface.Surface at 0x10c826e30>"
      ]
     },
     "execution_count": 15,
     "metadata": {},
     "output_type": "execute_result"
    }
   ],
   "source": [
    "'''\n",
    "Spectral methods in MATLAB.\n",
    "compare to Trefethen p18.m\n",
    "'''\n",
    "\n",
    "# 2nd order wave eq. on Chebyshev grid\n",
    "\n",
    "from numpy import *\n",
    "from matplotlib import pyplot as plt\n",
    "from mpl_toolkits.mplot3d import axes3d\n",
    "from chebfft import *\n",
    "from mayavi import mlab\n",
    "\n",
    "N = 80\n",
    "x = cos(pi*arange(0,N+1)/N)\n",
    "dt = 8.0/N**2\n",
    "v = exp(-200*x**2)\n",
    "vold = exp(-200*(x-dt)**2)\n",
    "tmax = 4\n",
    "tplot = 0.075\n",
    "plotgap = int(round(tplot/dt))\n",
    "dt = tplot/plotgap\n",
    "nplots = int(round(tmax/tplot))\n",
    "plotdata = vstack((v, zeros((nplots,N+1))))\n",
    "tdata = 0\n",
    "for i in range(0,nplots):\n",
    "    for n in range(0,plotgap):\n",
    "        w = chebfft(chebfft(v)).T\n",
    "        w[0] = 0\n",
    "        w[N] = 0\n",
    "        vnew = 2*v - vold +dt**2*w\n",
    "        vold = v\n",
    "        v = vnew\n",
    "    plotdata[i+1,:] = v\n",
    "    tdata = vstack((tdata, dt*i*plotgap))\n",
    "\n",
    "# Plot results\n",
    "\n",
    "# fig = plt.figure()\n",
    "# ax = axes3d.Axes3D(fig)\n",
    "X, Y = meshgrid(x, tdata)\n",
    "\n",
    "mlab.surf(plotdata,warp_scale=\"auto\")\n",
    "\n",
    "# ax.plot_wireframe(X,Y,plotdata)\n",
    "# ax.set_xlim(-1, 1)\n",
    "# ax.set_ylim(0, tmax)\n",
    "# ax.set_zlim(-2, 2)\n",
    "# plt.show()\n"
   ]
  },
  {
   "cell_type": "code",
   "execution_count": 16,
   "metadata": {},
   "outputs": [],
   "source": [
    "mlab.show()"
   ]
  },
  {
   "cell_type": "code",
   "execution_count": null,
   "metadata": {},
   "outputs": [],
   "source": []
  }
 ],
 "metadata": {
  "kernelspec": {
   "display_name": "Python 3",
   "language": "python",
   "name": "python3"
  },
  "language_info": {
   "codemirror_mode": {
    "name": "ipython",
    "version": 3
   },
   "file_extension": ".py",
   "mimetype": "text/x-python",
   "name": "python",
   "nbconvert_exporter": "python",
   "pygments_lexer": "ipython3",
   "version": "3.7.4"
  }
 },
 "nbformat": 4,
 "nbformat_minor": 2
}
