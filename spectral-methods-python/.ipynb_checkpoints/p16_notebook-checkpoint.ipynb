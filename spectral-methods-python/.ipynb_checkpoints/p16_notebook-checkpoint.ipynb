{
 "cells": [
  {
   "cell_type": "code",
   "execution_count": 40,
   "metadata": {},
   "outputs": [
    {
     "data": {
      "image/png": "[encoded data removed]",
      "text/plain": [
       "<Figure size 432x288 with 1 Axes>"
      ]
     },
     "metadata": {
      "needs_background": "light"
     },
     "output_type": "display_data"
    }
   ],
   "source": [
    "'''\n",
    "Spectral methods in MATLAB.\n",
    "compare to Trefethen p16.m\n",
    "'''\n",
    "\n",
    "# Poisson equation on [-1,1]x[-1,1] with u=o on boundary\n",
    "\n",
    "from mayavi import mlab\n",
    "from numpy import *\n",
    "import time\n",
    "from cheb import *\n",
    "from numpy.linalg import matrix_power,solve\n",
    "from matplotlib import pyplot as plt\n",
    "from scipy.interpolate import interp2d,griddata,bisplev,bisplrep\n",
    "\n",
    "# Set up grids and tensor product Laplacian and solve for u:\n",
    "\n",
    "N = 24\n",
    "D,x = cheb(N)\n",
    "y = x\n",
    "xx,yy = meshgrid(x[1:N],y[1:N])\n",
    "xx = hstack(xx[:]); yy = hstack(yy[:]);                   # stretch 2D grids to 1D vectors\n",
    "f = 10*sin(8*xx*(yy-1))\n",
    "D2 = matrix_power(D, 2)\n",
    "D2 = D2[1:N,1:N]\n",
    "I = identity(N-1)\n",
    "L = kron(I,D2) + kron(D2,I)          # Laplacian\n",
    "plt.figure(1)\n",
    "plt.spy(L)\n",
    "tic = time.time(); u = solve(L,f); toc = time.time() - tic;      # Solve problem and watch the clock\n",
    "\n",
    "# Reshape long 1D results onto 2D grid:\n",
    "uu = zeros((N+1,N+1))\n",
    "uu[1:N,1:N]=u.reshape(N-1,N-1)\n",
    "xx,yy = meshgrid(x,y)\n",
    "value = uu[int(N/4.+1),int(N/4.+1)]\n",
    "\n",
    "\n"
   ]
  },
  {
   "cell_type": "code",
   "execution_count": 47,
   "metadata": {},
   "outputs": [],
   "source": [
    "uuu = interp2d(x, y, uu, kind='cubic')\n",
    "\n",
    "mlab.surf(uuu(arange(-1,1,0.04),arange(-1,1,0.04)),warp_scale=\"auto\")\n",
    "mlab.show()"
   ]
  },
  {
   "cell_type": "code",
   "execution_count": 45,
   "metadata": {},
   "outputs": [
    {
     "data": {
      "text/plain": [
       "(50, 50)"
      ]
     },
     "execution_count": 45,
     "metadata": {},
     "output_type": "execute_result"
    }
   ],
   "source": [
    "uuu(arange(-1,1,0.04),arange(-1,1,0.04)).shape"
   ]
  },
  {
   "cell_type": "code",
   "execution_count": null,
   "metadata": {},
   "outputs": [],
   "source": []
  }
 ],
 "metadata": {
  "kernelspec": {
   "display_name": "Python 3",
   "language": "python",
   "name": "python3"
  },
  "language_info": {
   "codemirror_mode": {
    "name": "ipython",
    "version": 3
   },
   "file_extension": ".py",
   "mimetype": "text/x-python",
   "name": "python",
   "nbconvert_exporter": "python",
   "pygments_lexer": "ipython3",
   "version": "3.7.4"
  }
 },
 "nbformat": 4,
 "nbformat_minor": 2
}
